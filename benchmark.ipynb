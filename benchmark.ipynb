{
 "cells": [
  {
   "cell_type": "code",
   "execution_count": 1,
   "metadata": {},
   "outputs": [
    {
     "name": "stdout",
     "output_type": "stream",
     "text": [
      "====== Input data summary ======\n",
      "Loading ./loghub/HDFS/HDFS_100m.log_structured.csv\n",
      "1209 1210\n",
      "Total: 103804 instances, 2419 anomaly, 101385 normal\n",
      "Train: 51901 instances, 1209 anomaly, 50692 normal\n",
      "Test: 51903 instances, 1210 anomaly, 50693 normal\n",
      "\n"
     ]
    }
   ],
   "source": [
    "import sys\n",
    "sys.path.append('../')\n",
    "import pandas as pd\n",
    "from loglizer.models import *\n",
    "from loglizer import dataloader, preprocessing\n",
    "import matplotlib.pyplot as plt\n",
    "\n",
    "struct_log = './loghub/HDFS/HDFS_100m.log_structured.csv' # The benchmark dataset\n",
    "label_file = './loghub/HDFS/anomaly_label.csv' # The anomaly label file\n",
    "feature_extractor = preprocessing.FeatureExtractor()\n",
    "(x_tr, y_train), (x_te, y_test) = dataloader.load_HDFS(struct_log, label_file=label_file, window='session', train_ratio=0.5, split_type='uniform')\n",
    "benchmark_results = []\n",
    "train_results = []\n",
    "test_results = []\n",
    "\n",
    "def model_evaluate(_model, model, x_te, y_test, x_train, y_train):\n",
    "    x_test = feature_extractor.transform(x_te)\n",
    "    precision, recall, f1 = model.evaluate(x_train, y_train)\n",
    "    benchmark_results.append([_model + '-train', precision, recall, f1])\n",
    "    train_results.append([_model, precision, recall, f1])\n",
    "    precision, recall, f1 = model.evaluate(x_test, y_test)\n",
    "    benchmark_results.append([_model + '-test', precision, recall, f1])\n",
    "    test_results.append([_model, precision, recall, f1])"
   ]
  },
  {
   "cell_type": "code",
   "execution_count": 2,
   "metadata": {},
   "outputs": [
    {
     "name": "stderr",
     "output_type": "stream",
     "text": [
      "/usr/local/lib/python3.9/site-packages/sklearn/neural_network/_multilayer_perceptron.py:692: ConvergenceWarning: Stochastic Optimizer: Maximum iterations (1000) reached and the optimization hasn't converged yet.\n",
      "  warnings.warn(\n"
     ]
    },
    {
     "data": {
      "image/png": "[encoded data removed]",
      "text/plain": [
       "<Figure size 432x288 with 1 Axes>"
      ]
     },
     "metadata": {
      "needs_background": "light"
     },
     "output_type": "display_data"
    }
   ],
   "source": [
    "train_results = []\n",
    "test_results = []\n",
    "fig, ax = plt.subplots()\n",
    "x_train = feature_extractor.fit_transform(x_tr, term_weighting='tf-idf')\n",
    "\n",
    "model = MLP(solver='adam', max_iter=1000, learning_rate_init=0.001)\n",
    "model.fit(x_train, y_train)\n",
    "model_evaluate('MLP', model, x_te, y_test, x_train, y_train)\n",
    "ax.plot(model.classifier.loss_curve_, '', label='0.001')\n",
    "\n",
    "model = MLP(solver='adam', max_iter=1000, learning_rate_init=0.0001)\n",
    "model.fit(x_train, y_train)\n",
    "model_evaluate('MLP', model, x_te, y_test, x_train, y_train)\n",
    "ax.plot(model.classifier.loss_curve_, '', label='0.0001')\n",
    "\n",
    "model = MLP(solver='adam', max_iter=1000, learning_rate_init=0.00005)\n",
    "model.fit(x_train, y_train)\n",
    "model_evaluate('MLP', model, x_te, y_test, x_train, y_train)\n",
    "ax.plot(model.classifier.loss_curve_, '', label='0.00005')\n",
    "\n",
    "model = MLP(solver='adam', max_iter=1000, learning_rate_init=0.00001)\n",
    "model.fit(x_train, y_train)\n",
    "model_evaluate('MLP', model, x_te, y_test, x_train, y_train)\n",
    "ax.plot(model.classifier.loss_curve_, '', label='0.00001')\n",
    "\n",
    "model = MLP(solver='adam', max_iter=1000, learning_rate_init=0.000005)\n",
    "model.fit(x_train, y_train)\n",
    "model_evaluate('MLP', model, x_te, y_test, x_train, y_train)\n",
    "ax.plot(model.classifier.loss_curve_, '', label='0.000005')\n",
    "\n",
    "model = MLP(solver='adam', max_iter=1000, learning_rate_init=0.000001)\n",
    "model.fit(x_train, y_train)\n",
    "model_evaluate('MLP', model, x_te, y_test, x_train, y_train)\n",
    "ax.plot(model.classifier.loss_curve_, '', label='0.000001')\n",
    "\n",
    "legend = ax.legend(shadow=True)"
   ]
  },
  {
   "cell_type": "code",
   "execution_count": 3,
   "metadata": {},
   "outputs": [
    {
     "name": "stdout",
     "output_type": "stream",
     "text": [
      "====== Train Results ======\n",
      "  Model  Precision    Recall        F1\n",
      "0   MLP   1.000000  0.259719  0.412344\n",
      "1   MLP   1.000000  0.259719  0.412344\n",
      "2   MLP   1.000000  0.259719  0.412344\n",
      "3   MLP   0.993671  0.259719  0.411803\n",
      "4   MLP   1.000000  0.167080  0.286322\n",
      "5   MLP   0.983193  0.096774  0.176205\n",
      "\n",
      "====== Test Results ======\n",
      "  Model  Precision    Recall        F1\n",
      "0   MLP   0.052419  0.032231  0.039918\n",
      "1   MLP   0.052419  0.032231  0.039918\n",
      "2   MLP   0.048848  0.043802  0.046187\n",
      "3   MLP   0.033221  0.057025  0.041984\n",
      "4   MLP   1.000000  0.006612  0.013136\n",
      "5   MLP   0.800000  0.006612  0.013115\n"
     ]
    }
   ],
   "source": [
    "print('====== Train Results ======')\n",
    "print(pd.DataFrame(train_results, columns=['Model', 'Precision', 'Recall', 'F1']))\n",
    "print('\\n====== Test Results ======')\n",
    "print(pd.DataFrame(test_results, columns=['Model', 'Precision', 'Recall', 'F1']))\n",
    "#pd.DataFrame(benchmark_results, columns=['Model', 'Precision', 'Recall', 'F1']).to_csv('benchmark_result.csv', index=False)"
   ]
  },
  {
   "cell_type": "code",
   "execution_count": 4,
   "metadata": {},
   "outputs": [],
   "source": [
    "train_results = []\n",
    "test_results = []\n",
    "x_train = feature_extractor.fit_transform(x_tr, term_weighting='tf-idf')\n",
    "\n",
    "model = MLP(solver='adam', max_iter=1000, learning_rate_init=0.00005, alpha=1e-1)\n",
    "model.fit(x_train, y_train)\n",
    "model_evaluate('MLP', model, x_te, y_test, x_train, y_train)\n",
    "\n",
    "model = MLP(solver='adam', max_iter=1000, learning_rate_init=0.00005, alpha=1e-3)\n",
    "model.fit(x_train, y_train)\n",
    "model_evaluate('MLP', model, x_te, y_test, x_train, y_train)\n",
    "\n",
    "model = MLP(solver='adam', max_iter=1000, learning_rate_init=0.00005, alpha=1e-5)\n",
    "model.fit(x_train, y_train)\n",
    "model_evaluate('MLP', model, x_te, y_test, x_train, y_train)\n",
    "\n",
    "model = MLP(solver='adam', max_iter=1000, learning_rate_init=0.00005, alpha=1e-7)\n",
    "model.fit(x_train, y_train)\n",
    "model_evaluate('MLP', model, x_te, y_test, x_train, y_train)\n",
    "\n",
    "model = MLP(solver='adam', max_iter=1000, learning_rate_init=0.00005, alpha=1e-9)\n",
    "model.fit(x_train, y_train)\n",
    "model_evaluate('MLP', model, x_te, y_test, x_train, y_train)"
   ]
  },
  {
   "cell_type": "code",
   "execution_count": 5,
   "metadata": {},
   "outputs": [
    {
     "name": "stdout",
     "output_type": "stream",
     "text": [
      "====== Train Results ======\n",
      "  Model  Precision    Recall        F1\n",
      "0   MLP        1.0  0.259719  0.412344\n",
      "1   MLP        1.0  0.259719  0.412344\n",
      "2   MLP        1.0  0.259719  0.412344\n",
      "3   MLP        1.0  0.259719  0.412344\n",
      "4   MLP        1.0  0.259719  0.412344\n",
      "\n",
      "====== Test Results ======\n",
      "  Model  Precision    Recall        F1\n",
      "0   MLP   0.052419  0.032231  0.039918\n",
      "1   MLP   0.052419  0.032231  0.039918\n",
      "2   MLP   0.048848  0.043802  0.046187\n",
      "3   MLP   0.048848  0.043802  0.046187\n",
      "4   MLP   0.048848  0.043802  0.046187\n"
     ]
    }
   ],
   "source": [
    "print('====== Train Results ======')\n",
    "print(pd.DataFrame(train_results, columns=['Model', 'Precision', 'Recall', 'F1']))\n",
    "print('\\n====== Test Results ======')\n",
    "print(pd.DataFrame(test_results, columns=['Model', 'Precision', 'Recall', 'F1']))\n",
    "#pd.DataFrame(benchmark_results, columns=['Model', 'Precision', 'Recall', 'F1']).to_csv('benchmark_result.csv', index=False)"
   ]
  }
 ],
 "metadata": {
  "interpreter": {
   "hash": "949777d72b0d2535278d3dc13498b2535136f6dfe0678499012e853ee9abcab1"
  },
  "kernelspec": {
   "display_name": "Python 3.9.5 64-bit",
   "language": "python",
   "name": "python3"
  },
  "language_info": {
   "codemirror_mode": {
    "name": "ipython",
    "version": 3
   },
   "file_extension": ".py",
   "mimetype": "text/x-python",
   "name": "python",
   "nbconvert_exporter": "python",
   "pygments_lexer": "ipython3",
   "version": "3.9.5"
  },
  "orig_nbformat": 4
 },
 "nbformat": 4,
 "nbformat_minor": 2
}
